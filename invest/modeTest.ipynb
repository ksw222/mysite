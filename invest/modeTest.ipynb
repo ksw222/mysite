{
 "cells": [
  {
   "cell_type": "code",
   "execution_count": null,
   "id": "d70fb9a2",
   "metadata": {},
   "outputs": [],
   "source": [
    "import buyandhold as bnh\n",
    "import bollinger as boll\n",
    "import halloween as hal\n",
    "import momentum as mm"
   ]
  },
  {
   "cell_type": "code",
   "execution_count": null,
   "id": "c13ceecc",
   "metadata": {},
   "outputs": [],
   "source": [
    "import pandas as pd"
   ]
  },
  {
   "cell_type": "code",
   "execution_count": null,
   "id": "928dbca5",
   "metadata": {},
   "outputs": [],
   "source": [
    "df = pd.read_csv(\"../../csv/GDX.csv\")"
   ]
  },
  {
   "cell_type": "code",
   "execution_count": null,
   "metadata": {},
   "outputs": [],
   "source": [
    "# 바이앤홀드로 수익율 확인 \n",
    "bnh_df, bnh_rtn = bnh.bnh(df, _start = '2015-01-01')"
   ]
  },
  {
   "cell_type": "code",
   "execution_count": null,
   "id": "a8dbdc03",
   "metadata": {},
   "outputs": [],
   "source": [
    "bnh_rtn"
   ]
  },
  {
   "cell_type": "code",
   "execution_count": null,
   "id": "4d3c25e6",
   "metadata": {},
   "outputs": [],
   "source": [
    "# 볼린져밴드로 수익율 확인 \n",
    "band_df = boll.create_band(df, _start = '2015-01-01')"
   ]
  },
  {
   "cell_type": "code",
   "execution_count": null,
   "id": "3e363248",
   "metadata": {},
   "outputs": [],
   "source": [
    "trade_df = boll.create_trade(band_df)"
   ]
  },
  {
   "cell_type": "code",
   "execution_count": null,
   "id": "f9734e8b",
   "metadata": {},
   "outputs": [],
   "source": [
    "boll_df, boll_rtn = boll.create_rtn(trade_df)"
   ]
  },
  {
   "cell_type": "code",
   "execution_count": null,
   "id": "c55805d8",
   "metadata": {},
   "outputs": [],
   "source": [
    "boll_rtn"
   ]
  },
  {
   "cell_type": "code",
   "execution_count": null,
   "id": "5efef886",
   "metadata": {},
   "outputs": [],
   "source": [
    "hal_df, hal_rtn = hal.six_month(df, _start = '2015-01-01')"
   ]
  },
  {
   "cell_type": "code",
   "execution_count": null,
   "id": "8f6ead83",
   "metadata": {},
   "outputs": [],
   "source": [
    "hal_rtn"
   ]
  },
  {
   "cell_type": "code",
   "execution_count": null,
   "id": "f0df9f33",
   "metadata": {},
   "outputs": [],
   "source": [
    "ym_df = mm.create_YM(df)"
   ]
  },
  {
   "cell_type": "code",
   "execution_count": null,
   "id": "efc00208",
   "metadata": {},
   "outputs": [],
   "source": [
    "month_df = mm.create_last_month(ym_df)"
   ]
  },
  {
   "cell_type": "code",
   "execution_count": null,
   "id": "5909b622",
   "metadata": {},
   "outputs": [],
   "source": [
    "mm_df, mm_rtn  = mm.create_rtn(ym_df, month_df)"
   ]
  },
  {
   "cell_type": "code",
   "execution_count": null,
   "id": "514322c3",
   "metadata": {},
   "outputs": [],
   "source": [
    "mm_rtn"
   ]
  },
  {
   "cell_type": "code",
   "execution_count": null,
   "id": "50119668",
   "metadata": {},
   "outputs": [],
   "source": [
    "import momentum2 as mm2"
   ]
  },
  {
   "cell_type": "code",
   "execution_count": null,
   "id": "e1101c9e",
   "metadata": {},
   "outputs": [],
   "source": [
    "# 모듈 수정 후 다시 로드하는 방법\n",
    "import importlib\n",
    "\n",
    "importlib.reload(mm2)"
   ]
  },
  {
   "cell_type": "code",
   "execution_count": null,
   "id": "a29b9a78",
   "metadata": {},
   "outputs": [],
   "source": [
    "import warnings"
   ]
  },
  {
   "cell_type": "code",
   "execution_count": null,
   "id": "28ee4047",
   "metadata": {},
   "outputs": [],
   "source": [
    "warnings.filterwarnings('ignore')"
   ]
  },
  {
   "cell_type": "code",
   "execution_count": null,
   "id": "77cb08c7",
   "metadata": {},
   "outputs": [],
   "source": [
    "# mm2에 있는 data_load() 함수 사용\n",
    "# 결과를 2개 되돌려준다.\n",
    "stock_df, month_list_df, = mm2.data_load()"
   ]
  },
  {
   "cell_type": "code",
   "execution_count": null,
   "id": "756939ab",
   "metadata": {},
   "outputs": [],
   "source": [
    "month_list_df.head()"
   ]
  },
  {
   "cell_type": "code",
   "execution_count": null,
   "id": "29ce8765",
   "metadata": {},
   "outputs": [],
   "source": [
    "# month_list_df 데이터를 이용해서 create_position 함수를 호출\n",
    "sig_dict, stock_code = \\\n",
    "    mm2.create_position(month_list_df)"
   ]
  },
  {
   "cell_type": "code",
   "execution_count": null,
   "id": "4739e13f",
   "metadata": {},
   "outputs": [],
   "source": [
    "sig_dict"
   ]
  },
  {
   "cell_type": "code",
   "execution_count": null,
   "id": "f8ec345b",
   "metadata": {},
   "outputs": [],
   "source": [
    "# 거래내역을 생성하는 함수 호출\n",
    "# 매개변수 3개 -> stock_df, stock_code, sig_dict\n",
    "book = mm2.create_trade_book(stock_df, stock_code, sig_dict)"
   ]
  },
  {
   "cell_type": "code",
   "execution_count": null,
   "id": "a32a42ba",
   "metadata": {},
   "outputs": [],
   "source": [
    "book.head()"
   ]
  },
  {
   "cell_type": "code",
   "execution_count": null,
   "id": "b16b0688",
   "metadata": {},
   "outputs": [],
   "source": [
    "# 거래내역 추가하는 함수\n",
    "# 매개변수 2개 -> book, stock_code\n",
    "book2 = mm2.create_trading(book, stock_code)"
   ]
  },
  {
   "cell_type": "code",
   "execution_count": null,
   "id": "2f3be48b",
   "metadata": {},
   "outputs": [],
   "source": [
    "# 수익율 계산하는 함수\n",
    "# 매개변수 2개 -> book2, stock_code\n",
    "book3 = mm2.multi_return(book2, stock_code)"
   ]
  },
  {
   "cell_type": "code",
   "execution_count": null,
   "id": "ac279a34",
   "metadata": {},
   "outputs": [],
   "source": [
    "# 누적 수익률 계산하는 함수 호출\n",
    "# 매개변수 2개 -> book3, stock_code\n",
    "# 되돌려주는 데이터가 데이터프레임과 최종 수익률\n",
    "book4, acc_rtn = mm2.multi_acc_rtn(book3, stock_code)"
   ]
  },
  {
   "cell_type": "code",
   "execution_count": null,
   "id": "9aa0c9d6",
   "metadata": {},
   "outputs": [],
   "source": []
  },
  {
   "cell_type": "code",
   "execution_count": null,
   "id": "a1d3ee0f",
   "metadata": {},
   "outputs": [],
   "source": []
  },
  {
   "cell_type": "code",
   "execution_count": null,
   "id": "815f39e3",
   "metadata": {},
   "outputs": [],
   "source": []
  }
 ],
 "metadata": {
  "kernelspec": {
   "display_name": "Python 3",
   "language": "python",
   "name": "python3"
  },
  "language_info": {
   "codemirror_mode": {
    "name": "ipython",
    "version": 3
   },
   "file_extension": ".py",
   "mimetype": "text/x-python",
   "name": "python",
   "nbconvert_exporter": "python",
   "pygments_lexer": "ipython3",
   "version": "3.6.8"
  }
 },
 "nbformat": 4,
 "nbformat_minor": 5
}
